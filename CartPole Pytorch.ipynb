{
 "cells": [
  {
   "cell_type": "code",
   "execution_count": 1,
   "id": "cosmetic-gabriel",
   "metadata": {},
   "outputs": [],
   "source": [
    "import gym"
   ]
  },
  {
   "cell_type": "code",
   "execution_count": 2,
   "id": "ethical-satisfaction",
   "metadata": {},
   "outputs": [],
   "source": [
    "env = gym.make(\"CartPole-v1\")"
   ]
  },
  {
   "cell_type": "markdown",
   "id": "exciting-fellowship",
   "metadata": {},
   "source": [
    "The four values are position, velocity, angle, angular velocity"
   ]
  },
  {
   "cell_type": "code",
   "execution_count": 3,
   "id": "norman-behavior",
   "metadata": {},
   "outputs": [
    {
     "data": {
      "text/plain": [
       "array([ 0.02826596, -0.04967754, -0.00991669, -0.01205246], dtype=float32)"
      ]
     },
     "execution_count": 3,
     "metadata": {},
     "output_type": "execute_result"
    }
   ],
   "source": [
    "env.reset()"
   ]
  },
  {
   "cell_type": "code",
   "execution_count": 4,
   "id": "dependent-radius",
   "metadata": {},
   "outputs": [
    {
     "data": {
      "text/plain": [
       "Discrete(2)"
      ]
     },
     "execution_count": 4,
     "metadata": {},
     "output_type": "execute_result"
    }
   ],
   "source": [
    "env.action_space"
   ]
  },
  {
   "cell_type": "code",
   "execution_count": 5,
   "id": "forward-tribute",
   "metadata": {},
   "outputs": [],
   "source": [
    "action = 1 # accelerate right\n",
    "obs, reward, done, info = env.step(action)"
   ]
  },
  {
   "cell_type": "markdown",
   "id": "developing-lightning",
   "metadata": {},
   "source": [
    "# Policy Gradiant"
   ]
  },
  {
   "cell_type": "markdown",
   "id": "characteristic-laser",
   "metadata": {},
   "source": [
    "We first make a basic policy which is to hit left if the rod is leaning left and vice versa"
   ]
  },
  {
   "cell_type": "code",
   "execution_count": 6,
   "id": "disturbed-aging",
   "metadata": {},
   "outputs": [],
   "source": [
    "def basic_policy(obs): \n",
    "    angle = obs[2]\n",
    "    return 0 if angle<0 else 1\n",
    "\n",
    "totals = []\n",
    "for episode in range(500):\n",
    "    episode_rewards = 0 \n",
    "    obs = env.reset()\n",
    "    for step in range(200):\n",
    "        action = basic_policy(obs)\n",
    "        obs, reward, done, info = env.step(action) \n",
    "        episode_rewards += reward\n",
    "        if done:\n",
    "            break\n",
    "    totals.append(episode_rewards)"
   ]
  },
  {
   "cell_type": "code",
   "execution_count": 7,
   "id": "recovered-confusion",
   "metadata": {},
   "outputs": [
    {
     "data": {
      "text/plain": [
       "(42.162, 9.340650726796287, 24.0, 68.0)"
      ]
     },
     "execution_count": 7,
     "metadata": {},
     "output_type": "execute_result"
    }
   ],
   "source": [
    "import numpy as np\n",
    "np.mean(totals), np.std(totals), np.min(totals), np.max(totals)"
   ]
  },
  {
   "cell_type": "code",
   "execution_count": 8,
   "id": "bacterial-longer",
   "metadata": {},
   "outputs": [],
   "source": [
    "all_obs=[]\n",
    "\n",
    "obs = env.reset()\n",
    "all_obs.append(obs)\n",
    "\n",
    "for step in range(200):\n",
    "    action = basic_policy(obs)\n",
    "    obs, reward, done, info = env.step(action)\n",
    "    all_obs.append(obs)\n",
    "    episode_rewards += reward\n",
    "    if done:\n",
    "        break\n",
    "all_obs=np.stack(all_obs)"
   ]
  },
  {
   "cell_type": "code",
   "execution_count": 10,
   "id": "prostate-divorce",
   "metadata": {},
   "outputs": [
    {
     "data": {
      "text/plain": [
       "<matplotlib.legend.Legend at 0x7fccd83f6160>"
      ]
     },
     "execution_count": 10,
     "metadata": {},
     "output_type": "execute_result"
    },
    {
     "data": {
      "image/png": "[encoded data removed]",
      "text/plain": [
       "<Figure size 1080x360 with 1 Axes>"
      ]
     },
     "metadata": {
      "needs_background": "light"
     },
     "output_type": "display_data"
    }
   ],
   "source": [
    "import matplotlib.pyplot as plt\n",
    "import matplotlib as mpl\n",
    "\n",
    "mpl.rcParams['figure.figsize'] = [15.0, 5.0]\n",
    "plt.plot(all_obs[:,0],label='position')\n",
    "plt.plot(all_obs[:,2],label='angle')\n",
    "plt.legend()"
   ]
  },
  {
   "cell_type": "code",
   "execution_count": 11,
   "id": "cubic-parish",
   "metadata": {},
   "outputs": [],
   "source": [
    "from torch import nn\n",
    "import torch"
   ]
  },
  {
   "cell_type": "markdown",
   "id": "humanitarian-abortion",
   "metadata": {},
   "source": [
    "Now we make a DNN policy"
   ]
  },
  {
   "cell_type": "code",
   "execution_count": 12,
   "id": "adjusted-alfred",
   "metadata": {},
   "outputs": [],
   "source": [
    "class RLPolicy(nn.Module):\n",
    "    \n",
    "    def __init__(self):\n",
    "        super().__init__()\n",
    "        self.model=nn.Sequential(nn.Linear(4,5),\n",
    "                      nn.ELU(),\n",
    "                      nn.Linear(5,1),\n",
    "                      nn.Sigmoid()\n",
    "                     )\n",
    "        \n",
    "    def forward(self,x):\n",
    "        if isinstance(x,np.ndarray):\n",
    "            x=torch.tensor(x)\n",
    "        return self.model(x)"
   ]
  },
  {
   "cell_type": "markdown",
   "id": "surprising-bench",
   "metadata": {},
   "source": [
    "This plays one step and returns the probability of going left. The action itself is chose to be 0 or 1 with that probability. The target has to be chosen carefully. The output of the model is for going left but we don't always go left. If we go right then from the models point of view we went opposite to it's recommendation so the target should be 0 and if we go left then from the models point of view we went along with it's recommendation so the target should be 1.\n",
    "\n",
    "The loss is computed with this and the grads are computed and returned along with the env variables."
   ]
  },
  {
   "cell_type": "code",
   "execution_count": 13,
   "id": "careful-performer",
   "metadata": {},
   "outputs": [],
   "source": [
    "def play_one_step(env, obs, model, loss_fn):\n",
    "    left_proba = model(obs[np.newaxis])\n",
    "    action = torch.rand([1,1])>left_proba\n",
    "    y_target = torch.tensor([[1.]]) - action.type(torch.float32)\n",
    "    loss =loss_fn(left_proba,y_target)\n",
    "    loss.backward()\n",
    "    grads=[torch.clone(x.grad) for x in model.parameters()]\n",
    "    [x.grad.data.zero_() for x in model.parameters()]\n",
    "    obs, reward, done, info = env.step(int(action[0, 0].numpy())) \n",
    "    return obs, reward, done, grads\n",
    "#play_one_step(env,obs,model,loss_fn)"
   ]
  },
  {
   "cell_type": "code",
   "execution_count": 14,
   "id": "simple-bloom",
   "metadata": {},
   "outputs": [],
   "source": [
    "def play_multiple_episodes(env, n_episodes, n_max_steps, model, loss_fn): \n",
    "    all_rewards = []\n",
    "    all_grads = []\n",
    "    for episode in range(n_episodes):\n",
    "        current_rewards = [] \n",
    "        current_grads = []\n",
    "        obs = env.reset()\n",
    "        for step in range(n_max_steps):\n",
    "            obs, reward, done, grads = play_one_step(env, obs, model, loss_fn) \n",
    "            current_rewards.append(reward)\n",
    "            current_grads.append(grads)\n",
    "            if done:\n",
    "                break\n",
    "        all_rewards.append(current_rewards)\n",
    "        all_grads.append(current_grads) \n",
    "    return all_rewards, all_grads"
   ]
  },
  {
   "cell_type": "code",
   "execution_count": 15,
   "id": "boring-security",
   "metadata": {},
   "outputs": [],
   "source": [
    "def discount_rewards(rewards, discount_factor): \n",
    "    discounted = np.array(rewards)\n",
    "    for step in range(len(rewards) - 2, -1, -1):\n",
    "        discounted[step] += discounted[step + 1] * discount_factor \n",
    "    return discounted"
   ]
  },
  {
   "cell_type": "code",
   "execution_count": 16,
   "id": "laden-therapy",
   "metadata": {},
   "outputs": [],
   "source": [
    "def discount_and_normalize_rewards(all_rewards, discount_factor): \n",
    "    all_discounted_rewards = [discount_rewards(rewards, discount_factor)\n",
    "                              for rewards in all_rewards] \n",
    "    flat_rewards = np.concatenate(all_discounted_rewards)\n",
    "    reward_mean = flat_rewards.mean()\n",
    "    reward_std = flat_rewards.std()\n",
    "    return [(discounted_rewards - reward_mean) / reward_std\n",
    "            for discounted_rewards in all_discounted_rewards]"
   ]
  },
  {
   "cell_type": "code",
   "execution_count": 17,
   "id": "resistant-dallas",
   "metadata": {},
   "outputs": [
    {
     "data": {
      "text/plain": [
       "array([-22, -40, -50])"
      ]
     },
     "execution_count": 17,
     "metadata": {},
     "output_type": "execute_result"
    }
   ],
   "source": [
    "discount_rewards([10, 0, -50], discount_factor=0.8)"
   ]
  },
  {
   "cell_type": "code",
   "execution_count": 18,
   "id": "proper-federation",
   "metadata": {},
   "outputs": [
    {
     "data": {
      "text/plain": [
       "[array([-0.28435071, -0.86597718, -1.18910299]),\n",
       " array([1.26665318, 1.0727777 ])]"
      ]
     },
     "execution_count": 18,
     "metadata": {},
     "output_type": "execute_result"
    }
   ],
   "source": [
    "discount_and_normalize_rewards([[10, 0, -50], [10, 20]], discount_factor=0.8)"
   ]
  },
  {
   "cell_type": "code",
   "execution_count": 19,
   "id": "answering-overhead",
   "metadata": {},
   "outputs": [],
   "source": [
    "n_iterations = 150\n",
    "n_episodes_per_update = 10\n",
    "n_max_steps = 200\n",
    "discount_factor = 0.95"
   ]
  },
  {
   "cell_type": "code",
   "execution_count": 20,
   "id": "designing-writer",
   "metadata": {},
   "outputs": [],
   "source": [
    "model=RLPolicy()"
   ]
  },
  {
   "cell_type": "code",
   "execution_count": 21,
   "id": "subject-summer",
   "metadata": {},
   "outputs": [],
   "source": [
    "optimizer = torch.optim.Adam(model.parameters(),lr=0.01)"
   ]
  },
  {
   "cell_type": "code",
   "execution_count": 22,
   "id": "green-narrative",
   "metadata": {},
   "outputs": [],
   "source": [
    "loss_fn=torch.nn.BCELoss()"
   ]
  },
  {
   "cell_type": "code",
   "execution_count": 23,
   "id": "independent-shaft",
   "metadata": {},
   "outputs": [],
   "source": [
    "for iteration in range(n_iterations):\n",
    "    all_rewards, all_grads = play_multiple_episodes(env, \n",
    "                                                    n_episodes_per_update, \n",
    "                                                    n_max_steps,\n",
    "                                                    model, \n",
    "                                                    loss_fn\n",
    "                                                   )\n",
    "    all_final_rewards = discount_and_normalize_rewards(all_rewards,\n",
    "                                                       discount_factor\n",
    "                                                      )\n",
    "    for var_index,var in enumerate(model.parameters()):\n",
    "        grads=[]\n",
    "        for episode_index, final_rewards in enumerate(all_final_rewards):\n",
    "            for step, final_reward in enumerate(final_rewards):\n",
    "                grads.append(final_reward * all_grads[episode_index][step][var_index])\n",
    "        mean_grads=torch.stack(grads,0).mean(0)\n",
    "        var.grad.data=mean_grads\n",
    "    optimizer.step()\n"
   ]
  },
  {
   "cell_type": "code",
   "execution_count": 24,
   "id": "promising-officer",
   "metadata": {},
   "outputs": [],
   "source": [
    "all_obs=[]\n",
    "obs = env.reset()\n",
    "all_obs.append(obs)\n",
    "for step in range(200):\n",
    "    left_prob = model(obs)\n",
    "    action = int(left_prob.detach().numpy()[0]<.5)\n",
    "    obs, reward, done, info = env.step(action) \n",
    "    all_obs.append(obs)\n",
    "    episode_rewards += reward\n",
    "    if done:\n",
    "        break\n",
    "all_obs=np.stack(all_obs)"
   ]
  },
  {
   "cell_type": "code",
   "execution_count": 25,
   "id": "norman-channels",
   "metadata": {},
   "outputs": [
    {
     "data": {
      "text/plain": [
       "<matplotlib.legend.Legend at 0x7fcd187a3ca0>"
      ]
     },
     "execution_count": 25,
     "metadata": {},
     "output_type": "execute_result"
    },
    {
     "data": {
      "image/png": "[encoded data removed]",
      "text/plain": [
       "<Figure size 1080x360 with 1 Axes>"
      ]
     },
     "metadata": {
      "needs_background": "light"
     },
     "output_type": "display_data"
    }
   ],
   "source": [
    "import matplotlib.pyplot as plt\n",
    "plt.plot(all_obs[:,0],label='position')\n",
    "plt.plot(all_obs[:,2],label='angle')\n",
    "plt.plot\n",
    "plt.legend()"
   ]
  },
  {
   "cell_type": "code",
   "execution_count": 26,
   "id": "anticipated-blood",
   "metadata": {},
   "outputs": [],
   "source": [
    "totals = []\n",
    "for episode in range(500):\n",
    "    episode_rewards = 0 \n",
    "    obs = env.reset()\n",
    "    for step in range(200):\n",
    "        left_prob = model(obs)\n",
    "        obs, reward, done, info = env.step(int(left_prob.detach().numpy()[0]<.5)) \n",
    "        episode_rewards += reward\n",
    "        if done:\n",
    "            break\n",
    "    totals.append(episode_rewards)"
   ]
  },
  {
   "cell_type": "code",
   "execution_count": 27,
   "id": "future-columbia",
   "metadata": {},
   "outputs": [
    {
     "data": {
      "text/plain": [
       "(200.0, 0.0, 200.0, 200.0)"
      ]
     },
     "execution_count": 27,
     "metadata": {},
     "output_type": "execute_result"
    }
   ],
   "source": [
    "np.mean(totals), np.std(totals), np.min(totals), np.max(totals)"
   ]
  },
  {
   "cell_type": "markdown",
   "id": "seven-rebel",
   "metadata": {},
   "source": [
    "# Markov Decision Process"
   ]
  },
  {
   "cell_type": "code",
   "execution_count": 28,
   "id": "chief-signature",
   "metadata": {},
   "outputs": [],
   "source": [
    "transition_probabilities = [ # shape=[s, a, s']\n",
    "[[0.7, 0.3, 0.0], [1.0, 0.0, 0.0], [0.8, 0.2, 0.0]], [[0.0, 1.0, 0.0], None, [0.0, 0.0, 1.0]],\n",
    "[None, [0.8, 0.1, 0.1], None]]\n",
    "\n",
    "rewards = [ # shape=[s, a, s']\n",
    "[[+10, 0, 0], [0, 0, 0], [0, 0, 0]], [[0, 0, 0], [0, 0, 0], [0, 0, -50]], [[0, 0, 0], [+40, 0, 0], [0, 0, 0]]]\n",
    "\n",
    "possible_actions = [ [i for i,a in enumerate(s) if a] for s in transition_probabilities ]"
   ]
  },
  {
   "cell_type": "code",
   "execution_count": 29,
   "id": "responsible-crack",
   "metadata": {},
   "outputs": [
    {
     "data": {
      "text/plain": [
       "[[0, 1, 2], [0, 2], [1]]"
      ]
     },
     "execution_count": 29,
     "metadata": {},
     "output_type": "execute_result"
    }
   ],
   "source": [
    "possible_actions"
   ]
  },
  {
   "cell_type": "code",
   "execution_count": 30,
   "id": "coordinated-layout",
   "metadata": {},
   "outputs": [],
   "source": [
    "Q_values = np.full((3, 3), -np.inf) # -np.inf for impossible actions \n",
    "for state, actions in enumerate(possible_actions):\n",
    "    Q_values[state, actions] = 0.0 # for all possible actions"
   ]
  },
  {
   "cell_type": "code",
   "execution_count": 31,
   "id": "golden-oregon",
   "metadata": {},
   "outputs": [
    {
     "data": {
      "text/plain": [
       "array([[  0.,   0.,   0.],\n",
       "       [  0., -inf,   0.],\n",
       "       [-inf,   0., -inf]])"
      ]
     },
     "execution_count": 31,
     "metadata": {},
     "output_type": "execute_result"
    }
   ],
   "source": [
    "Q_values"
   ]
  },
  {
   "cell_type": "code",
   "execution_count": 32,
   "id": "seeing-humanitarian",
   "metadata": {},
   "outputs": [],
   "source": [
    "Q_vals_1=[]"
   ]
  },
  {
   "cell_type": "code",
   "execution_count": 33,
   "id": "rolled-marriage",
   "metadata": {},
   "outputs": [],
   "source": [
    "gamma = 0.95 # the discount factor\n",
    "for iteration in range(50): \n",
    "    Q_prev = Q_values.copy() \n",
    "    for s in range(3):\n",
    "        for a in possible_actions[s]: \n",
    "            Q_values[s, a] = np.sum([transition_probabilities[s][a][sp] \n",
    "                                     * (rewards[s][a][sp] + gamma * np.max(Q_prev[sp])) for sp in range(3)\n",
    "                                    ]\n",
    "                                   )\n",
    "    Q_vals_1.append(Q_values[0].copy())\n"
   ]
  },
  {
   "cell_type": "code",
   "execution_count": 34,
   "id": "psychological-nelson",
   "metadata": {},
   "outputs": [
    {
     "data": {
      "text/plain": [
       "array([[21.73304188, 20.63807938, 16.70138772],\n",
       "       [ 0.95462106,        -inf,  1.01361207],\n",
       "       [       -inf, 53.70728682,        -inf]])"
      ]
     },
     "execution_count": 34,
     "metadata": {},
     "output_type": "execute_result"
    }
   ],
   "source": [
    "Q_values"
   ]
  },
  {
   "cell_type": "code",
   "execution_count": 35,
   "id": "superior-decision",
   "metadata": {},
   "outputs": [
    {
     "data": {
      "text/plain": [
       "array([0, 2, 1])"
      ]
     },
     "execution_count": 35,
     "metadata": {},
     "output_type": "execute_result"
    }
   ],
   "source": [
    "Q_values.argmax(1)"
   ]
  },
  {
   "cell_type": "code",
   "execution_count": 36,
   "id": "controlling-recruitment",
   "metadata": {},
   "outputs": [],
   "source": [
    "Q_vals_1=np.array(Q_vals_1)"
   ]
  },
  {
   "cell_type": "code",
   "execution_count": 37,
   "id": "annoying-festival",
   "metadata": {},
   "outputs": [
    {
     "data": {
      "text/plain": [
       "[<matplotlib.lines.Line2D at 0x7fccc85ab760>]"
      ]
     },
     "execution_count": 37,
     "metadata": {},
     "output_type": "execute_result"
    },
    {
     "data": {
      "image/png": "[encoded data removed]",
      "text/plain": [
       "<Figure size 1080x360 with 1 Axes>"
      ]
     },
     "metadata": {
      "needs_background": "light"
     },
     "output_type": "display_data"
    }
   ],
   "source": [
    "plt.plot(Q_vals_1[:,0])\n",
    "plt.plot(Q_vals_1[:,2])"
   ]
  },
  {
   "cell_type": "markdown",
   "id": "numeric-prize",
   "metadata": {},
   "source": [
    "For Q-learning we do a simple example here"
   ]
  },
  {
   "cell_type": "code",
   "execution_count": 38,
   "id": "operational-japan",
   "metadata": {},
   "outputs": [],
   "source": [
    "def step(state,action):\n",
    "    probas = transition_probabilities[state][action]\n",
    "    next_state = np.random.choice([0,1,2],p=probas)\n",
    "    reward = rewards[state][action][next_state]\n",
    "    return next_state,reward"
   ]
  },
  {
   "cell_type": "code",
   "execution_count": 39,
   "id": "sharp-scholarship",
   "metadata": {},
   "outputs": [],
   "source": [
    "def exploration_policy(state):\n",
    "    return np.random.choice(possible_actions[state])"
   ]
  },
  {
   "cell_type": "code",
   "execution_count": 40,
   "id": "rising-patient",
   "metadata": {},
   "outputs": [],
   "source": [
    "Q_values = np.full((3, 3), -np.inf) # -np.inf for impossible actions \n",
    "for state, actions in enumerate(possible_actions):\n",
    "    Q_values[state, actions] = 0.0 # for all possible actions"
   ]
  },
  {
   "cell_type": "code",
   "execution_count": 41,
   "id": "weighted-harrison",
   "metadata": {},
   "outputs": [],
   "source": [
    "alpha0 = 0.05 # initial learning rate\n",
    "decay = 0.005 # learning rate decay\n",
    "gamma = 0.95 # discount factor\n",
    "state =0 # initial state"
   ]
  },
  {
   "cell_type": "code",
   "execution_count": 42,
   "id": "functioning-commonwealth",
   "metadata": {},
   "outputs": [],
   "source": [
    "Qt_vals_1=[]"
   ]
  },
  {
   "cell_type": "code",
   "execution_count": 43,
   "id": "developmental-adult",
   "metadata": {},
   "outputs": [],
   "source": [
    "for iteration in range(100000):\n",
    "    action = exploration_policy(state)\n",
    "    next_state,reward  = step(state,action)\n",
    "    next_value = np.max(Q_values[next_state])\n",
    "    alpha = alpha0/(1+iteration*decay)\n",
    "    Q_values[state,action] *= 1-alpha\n",
    "    Q_values[state,action]  += alpha * (reward + gamma* next_value)\n",
    "    state = next_state\n",
    "    Qt_vals_1.append(Q_values[1].copy())\n"
   ]
  },
  {
   "cell_type": "code",
   "execution_count": 44,
   "id": "global-championship",
   "metadata": {},
   "outputs": [
    {
     "data": {
      "text/plain": [
       "array([[20.49641143, 19.40960142, 15.57212179],\n",
       "       [ 0.        ,        -inf, -0.78999363],\n",
       "       [       -inf, 52.58488887,        -inf]])"
      ]
     },
     "execution_count": 44,
     "metadata": {},
     "output_type": "execute_result"
    }
   ],
   "source": [
    "Q_values"
   ]
  },
  {
   "cell_type": "code",
   "execution_count": 45,
   "id": "vocational-automation",
   "metadata": {},
   "outputs": [
    {
     "data": {
      "text/plain": [
       "array([0, 0, 1])"
      ]
     },
     "execution_count": 45,
     "metadata": {},
     "output_type": "execute_result"
    }
   ],
   "source": [
    "Q_values.argmax(1)"
   ]
  },
  {
   "cell_type": "code",
   "execution_count": 46,
   "id": "homeless-matter",
   "metadata": {},
   "outputs": [],
   "source": [
    "Qt_vals_1=np.array(Qt_vals_1)"
   ]
  },
  {
   "cell_type": "code",
   "execution_count": 47,
   "id": "acoustic-volume",
   "metadata": {},
   "outputs": [
    {
     "data": {
      "text/plain": [
       "[<matplotlib.lines.Line2D at 0x7fcd189e0970>]"
      ]
     },
     "execution_count": 47,
     "metadata": {},
     "output_type": "execute_result"
    },
    {
     "data": {
      "image/png": "[encoded data removed]",
      "text/plain": [
       "<Figure size 1080x360 with 1 Axes>"
      ]
     },
     "metadata": {
      "needs_background": "light"
     },
     "output_type": "display_data"
    }
   ],
   "source": [
    "plt.plot(Qt_vals_1[20:,0])\n",
    "plt.plot(Qt_vals_1[20:,2])"
   ]
  },
  {
   "cell_type": "markdown",
   "id": "arctic-retention",
   "metadata": {},
   "source": [
    "# Deep Q-Learning"
   ]
  },
  {
   "cell_type": "code",
   "execution_count": 48,
   "id": "marine-youth",
   "metadata": {},
   "outputs": [],
   "source": [
    "env = gym.make(\"CartPole-v0\")\n",
    "input_shape = [4] # == env.observation_space.shape \n",
    "n_outputs = 2 "
   ]
  },
  {
   "cell_type": "code",
   "execution_count": 49,
   "id": "checked-buyer",
   "metadata": {},
   "outputs": [],
   "source": [
    "class Model(nn.Module):\n",
    "    \n",
    "    def __init__(self):\n",
    "        super().__init__()\n",
    "        self.model=nn.Sequential(\n",
    "            nn.Linear(4,32),\n",
    "            nn.ELU(),\n",
    "            nn.Linear(32,32),\n",
    "            nn.ELU(),\n",
    "            nn.Linear(32,n_outputs)\n",
    "        )\n",
    "        \n",
    "    def forward(self,x):\n",
    "        if isinstance(x,np.ndarray):\n",
    "            x=torch.tensor(x)\n",
    "        return self.model(x)"
   ]
  },
  {
   "cell_type": "code",
   "execution_count": 50,
   "id": "indonesian-naples",
   "metadata": {},
   "outputs": [],
   "source": [
    "model = Model()"
   ]
  },
  {
   "cell_type": "code",
   "execution_count": 51,
   "id": "designed-paste",
   "metadata": {},
   "outputs": [
    {
     "data": {
      "text/plain": [
       "array([0.05472796, 0.6168405 , 0.04615219, 0.91786397], dtype=float32)"
      ]
     },
     "execution_count": 51,
     "metadata": {},
     "output_type": "execute_result"
    }
   ],
   "source": [
    "state=np.random.uniform(0,1,4).astype(np.float32)\n",
    "state"
   ]
  },
  {
   "cell_type": "code",
   "execution_count": 52,
   "id": "trained-treat",
   "metadata": {},
   "outputs": [],
   "source": [
    "def epsilon_greedy_policy(state, epsilon=0): \n",
    "    if torch.rand(1) < epsilon:\n",
    "        return torch.randint(2,(1,))[0]\n",
    "    else:\n",
    "        with torch.no_grad():\n",
    "            Q_values = model(state[np.newaxis]) \n",
    "        return torch.argmax(Q_values[0])"
   ]
  },
  {
   "cell_type": "code",
   "execution_count": 53,
   "id": "acquired-pharmaceutical",
   "metadata": {},
   "outputs": [],
   "source": [
    "from collections import deque \n",
    "replay_buffer = deque(maxlen=2000)\n"
   ]
  },
  {
   "cell_type": "code",
   "execution_count": 54,
   "id": "handy-beauty",
   "metadata": {},
   "outputs": [],
   "source": [
    "def sample_experiences(batch_size):\n",
    "    indices = np.random.randint(len(replay_buffer), size=batch_size)\n",
    "    batch = [replay_buffer[index] for index in indices]\n",
    "    states, actions, rewards, next_states, dones = [\n",
    "            np.array([experience[field_index] for experience in batch])\n",
    "            for field_index in range(5)]\n",
    "    dones = torch.tensor(dones).type(torch.int)\n",
    "    rewards= torch.tensor(rewards).type(torch.float32)\n",
    "    actions=torch.tensor(actions)\n",
    "    return states, actions, rewards, next_states, dones"
   ]
  },
  {
   "cell_type": "code",
   "execution_count": 55,
   "id": "flying-wrapping",
   "metadata": {},
   "outputs": [],
   "source": [
    "def play_one_step(env, state, epsilon):\n",
    "    action = epsilon_greedy_policy(state, epsilon).numpy()\n",
    "    next_state, reward, done, info = env.step(action) \n",
    "    replay_buffer.append((state, action, reward, next_state, done)) \n",
    "    return next_state, reward, done, info"
   ]
  },
  {
   "cell_type": "code",
   "execution_count": 56,
   "id": "united-military",
   "metadata": {},
   "outputs": [],
   "source": [
    "def training_step(batch_size):\n",
    "    experiences = sample_experiences(batch_size)\n",
    "    states, actions, rewards, next_states, dones =  experiences\n",
    "    with torch.no_grad():\n",
    "        next_Q_values = model(next_states)\n",
    "    max_next_Q_values = torch.max(next_Q_values, axis=1).values\n",
    "    target_Q_values = (rewards +\n",
    "                           (1 - dones) * discount_factor * max_next_Q_values)\n",
    "    mask = torch.nn.functional.one_hot(actions, n_outputs)\n",
    "    all_Q_values = model(states)\n",
    "    Q_values = torch.sum(all_Q_values*mask,1)\n",
    "    loss =  loss_fn(Q_values,target_Q_values)\n",
    "    optimizer.zero_grad()\n",
    "    loss.backward()\n",
    "    optimizer.step()\n"
   ]
  },
  {
   "cell_type": "code",
   "execution_count": 57,
   "id": "deluxe-incentive",
   "metadata": {},
   "outputs": [],
   "source": [
    "batch_size = 32\n",
    "discount_factor = 0.95\n",
    "optimizer = torch.optim.Adam(model.parameters(),lr=1e-3)\n",
    "loss_fn=torch.nn.MSELoss()\n"
   ]
  },
  {
   "cell_type": "code",
   "execution_count": 58,
   "id": "graphic-sheffield",
   "metadata": {},
   "outputs": [],
   "source": [
    "total_rewards=[]\n",
    "for episode in range(600):\n",
    "    obs = env.reset()\n",
    "    for step in range(200):\n",
    "        epsilon = max(1 - episode / 500, 0.01)\n",
    "        obs, reward, done, info = play_one_step(env, obs, epsilon)\n",
    "        if done:\n",
    "            break\n",
    "    total_rewards.append(step+1)\n",
    "    if episode > 50:\n",
    "            training_step(batch_size)"
   ]
  },
  {
   "cell_type": "code",
   "execution_count": 59,
   "id": "running-birth",
   "metadata": {},
   "outputs": [
    {
     "data": {
      "text/plain": [
       "[<matplotlib.lines.Line2D at 0x7fcca8677cd0>]"
      ]
     },
     "execution_count": 59,
     "metadata": {},
     "output_type": "execute_result"
    },
    {
     "data": {
      "image/png": "[encoded data removed]",
      "text/plain": [
       "<Figure size 1080x360 with 1 Axes>"
      ]
     },
     "metadata": {
      "needs_background": "light"
     },
     "output_type": "display_data"
    }
   ],
   "source": [
    "plt.plot(total_rewards)"
   ]
  },
  {
   "cell_type": "code",
   "execution_count": null,
   "id": "short-cargo",
   "metadata": {},
   "outputs": [],
   "source": []
  },
  {
   "cell_type": "code",
   "execution_count": null,
   "id": "surprising-plaintiff",
   "metadata": {},
   "outputs": [],
   "source": []
  }
 ],
 "metadata": {
  "kernelspec": {
   "display_name": "Python 3 (ipykernel)",
   "language": "python",
   "name": "python3"
  },
  "language_info": {
   "codemirror_mode": {
    "name": "ipython",
    "version": 3
   },
   "file_extension": ".py",
   "mimetype": "text/x-python",
   "name": "python",
   "nbconvert_exporter": "python",
   "pygments_lexer": "ipython3",
   "version": "3.9.7"
  }
 },
 "nbformat": 4,
 "nbformat_minor": 5
}
