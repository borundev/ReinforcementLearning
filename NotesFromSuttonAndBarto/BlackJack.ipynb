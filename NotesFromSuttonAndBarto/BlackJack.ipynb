{
 "cells": [
  {
   "cell_type": "code",
   "execution_count": 1,
   "metadata": {},
   "outputs": [],
   "source": [
    "%load_ext autoreload\n",
    "%autoreload 2"
   ]
  },
  {
   "cell_type": "code",
   "execution_count": 2,
   "metadata": {
    "id": "0zErYggbS4c4"
   },
   "outputs": [],
   "source": [
    "import numpy as np\n",
    "import seaborn as sns\n",
    "import matplotlib.pyplot as plt\n",
    "from collections import defaultdict\n",
    "from tqdm import tqdm"
   ]
  },
  {
   "cell_type": "code",
   "execution_count": 3,
   "metadata": {
    "id": "lxae2SNlS7qf"
   },
   "outputs": [],
   "source": [
    "class BlackJack:\n",
    "    vals=['A',2,3,4,5,6,7,8,9,10,10,10,10]\n",
    "\n",
    "\n",
    "    def reset(self):\n",
    "        self.dealer_shown=np.random.choice(self.vals)\n",
    "        self.dealer_hidden=np.random.choice(self.vals)\n",
    "\n",
    "        self.dealer_non_ace_cards=[]\n",
    "        self.dealer_aces=0\n",
    "\n",
    "        for c in (self.dealer_shown, self.dealer_hidden):\n",
    "            if c=='A':\n",
    "                self.dealer_aces+=1\n",
    "            else:\n",
    "                self.dealer_non_ace_cards.append(int(c))\n",
    "\n",
    "        self.player_non_ace_cards=[]\n",
    "        self.aces=0\n",
    "\n",
    "        self.game_state=1 # game not truncated\n",
    "\n",
    "        while self.score<12:\n",
    "            self.hit()\n",
    "\n",
    "        if self.score==21:\n",
    "            self.game_state=0\n",
    "        \n",
    "        r=self._result if self.game_state==0 else 0\n",
    "\n",
    "        return self.state,r,not bool(self.game_state)\n",
    "\n",
    "\n",
    "    def step(self,action):\n",
    "        # action 1 is hit and 0 is stick\n",
    "        assert action in (0,1), \"Action {} not allowed\".format(action)\n",
    "        if action==1:\n",
    "            self.hit()\n",
    "            r=self._result if self.game_state==0 else 0\n",
    "            return self.state, r, not bool(self.game_state) \n",
    "        else:\n",
    "            self.stick()\n",
    "            return self.state, self._result, not bool(self.game_state) \n",
    "        \n",
    "\n",
    "\n",
    "    @property\n",
    "    def score(self):\n",
    "        t=sum(self.player_non_ace_cards)\n",
    "        a=self.aces\n",
    "        if a:\n",
    "            if 21-t>11:\n",
    "                t+=11\n",
    "                a-=1\n",
    "        if a:\n",
    "            t+=a\n",
    "        return t\n",
    "\n",
    "    @property\n",
    "    def state(self):\n",
    "        t=sum(self.player_non_ace_cards)\n",
    "        usable=21-t>11 and self.aces\n",
    "        return (self.score,bool(usable),self.dealer_shown)\n",
    "\n",
    "    @property\n",
    "    def _dealer_score(self):\n",
    "        t=sum(self.dealer_non_ace_cards)\n",
    "        a=self.dealer_aces\n",
    "        if a:\n",
    "            if 21-t>11:\n",
    "                t+=11\n",
    "                a-=1\n",
    "        if a:\n",
    "            t+=a\n",
    "        return t\n",
    "\n",
    "    def hit(self):\n",
    "        if self.game_state==0:\n",
    "            raise Exception('Game Ended')\n",
    "        v=np.random.choice(self.vals)\n",
    "        if v=='A':\n",
    "            self.aces+=1\n",
    "        else:\n",
    "            self.player_non_ace_cards.append(int(v))\n",
    "        if self.score>21:\n",
    "            self.game_state=0\n",
    "        \n",
    "\n",
    "    \n",
    "    def _dealer_hit(self):\n",
    "        v=np.random.choice(self.vals)\n",
    "        if v=='A':\n",
    "            self.dealer_aces+=1\n",
    "        else:\n",
    "            self.dealer_non_ace_cards.append(int(v))\n",
    "\n",
    "        if self._dealer_score>21:\n",
    "            self.game_state=0\n",
    "        return self.game_state,self._dealer_score\n",
    "    \n",
    "\n",
    "    def stick(self):\n",
    "        if self.game_state==0:\n",
    "            raise Exception('Game Ended')\n",
    "        while self._dealer_score<17:\n",
    "            self._dealer_hit()\n",
    "        self.game_state=0\n",
    "\n",
    "    @property\n",
    "    def _result(self):\n",
    "        assert self.game_state==0, \"_result Called Before Game Ended\"\n",
    "        if self.score>21:\n",
    "            return -1\n",
    "        elif self._dealer_score>21:\n",
    "            return 1\n",
    "        elif self.score>self._dealer_score:\n",
    "            return 1\n",
    "        elif self.score<self._dealer_score:\n",
    "            return -1\n",
    "        else:\n",
    "            return 0\n",
    "\n",
    "   \n",
    "    def check_natural(self):\n",
    "        if self.score==21:\n",
    "            if self._dealer_score==21:\n",
    "                return 0\n",
    "            else:\n",
    "                return 1"
   ]
  },
  {
   "cell_type": "code",
   "execution_count": 4,
   "metadata": {
    "id": "472_72_RUzht"
   },
   "outputs": [],
   "source": [
    "g=BlackJack()"
   ]
  },
  {
   "cell_type": "code",
   "execution_count": 8,
   "metadata": {
    "colab": {
     "base_uri": "https://localhost:8080/"
    },
    "id": "68I1jt8IU2Lg",
    "outputId": "ab679c9d-0d53-4874-940e-6f9c87d82f7c"
   },
   "outputs": [
    {
     "data": {
      "text/plain": [
       "((15, False, '10'), 0, False)"
      ]
     },
     "execution_count": 8,
     "metadata": {},
     "output_type": "execute_result"
    }
   ],
   "source": [
    "g.reset()"
   ]
  },
  {
   "cell_type": "code",
   "execution_count": 9,
   "metadata": {
    "colab": {
     "base_uri": "https://localhost:8080/"
    },
    "id": "zomCAUgpU3Me",
    "outputId": "b26a6a3b-1101-4f6f-8575-1d966fa6347e"
   },
   "outputs": [
    {
     "data": {
      "text/plain": [
       "((23, False, '10'), -1, True)"
      ]
     },
     "execution_count": 9,
     "metadata": {},
     "output_type": "execute_result"
    }
   ],
   "source": [
    "g.step(1)"
   ]
  },
  {
   "cell_type": "code",
   "execution_count": 10,
   "metadata": {
    "colab": {
     "base_uri": "https://localhost:8080/"
    },
    "id": "q2YP26A_VBnq",
    "outputId": "70363d0a-3704-4bc4-d222-676b8e944e68"
   },
   "outputs": [
    {
     "data": {
      "text/plain": [
       "((17, False, '10'), 0, False)"
      ]
     },
     "execution_count": 10,
     "metadata": {},
     "output_type": "execute_result"
    }
   ],
   "source": [
    "g.reset()"
   ]
  },
  {
   "cell_type": "code",
   "execution_count": 11,
   "metadata": {
    "colab": {
     "base_uri": "https://localhost:8080/"
    },
    "id": "IjDsyryWVNZj",
    "outputId": "a9a0d07b-7075-484c-a5be-6c92683b75d5"
   },
   "outputs": [
    {
     "data": {
      "text/plain": [
       "((17, False, '10'), 0, True)"
      ]
     },
     "execution_count": 11,
     "metadata": {},
     "output_type": "execute_result"
    }
   ],
   "source": [
    "g.step(0)"
   ]
  },
  {
   "cell_type": "code",
   "execution_count": 12,
   "metadata": {
    "colab": {
     "base_uri": "https://localhost:8080/"
    },
    "id": "qRuPXp_sVT-s",
    "outputId": "2dc4fc8d-d36d-4a4f-bdc0-50929a549245"
   },
   "outputs": [
    {
     "data": {
      "text/plain": [
       "17"
      ]
     },
     "execution_count": 12,
     "metadata": {},
     "output_type": "execute_result"
    }
   ],
   "source": [
    "g._dealer_score"
   ]
  },
  {
   "cell_type": "code",
   "execution_count": 13,
   "metadata": {
    "id": "lgR6R0XTWnmU"
   },
   "outputs": [],
   "source": [
    "class Value:\n",
    "    def __init__(self):\n",
    "        self.vals=np.zeros((10,2,10))\n",
    "        self.ns=np.zeros((10,2,10))\n",
    "\n",
    "    def put(self,score,usable,dealer_showing,v):\n",
    "        x=score-12\n",
    "        y=0 if dealer_showing=='A' else int(dealer_showing)-1\n",
    "        if x>=10 or y>=10:\n",
    "            print(score,x,dealer_showing,y)\n",
    "        self.ns[x][int(usable)][y]+=1.0\n",
    "        self.vals[x][int(usable)][y]+= (v-self.vals[x][int(usable)][y])/self.ns[x][int(usable)][y]\n",
    "\n",
    "    def get(self,score,usable,dealer_showing):\n",
    "        x=score-12\n",
    "        y=0 if dealer_showing=='A' else int(dealer_showing)-1\n",
    "        return self.vals[x][int(usable)][y]\n"
   ]
  },
  {
   "cell_type": "code",
   "execution_count": 14,
   "metadata": {
    "colab": {
     "base_uri": "https://localhost:8080/"
    },
    "id": "8hHb6ZVCVmg9",
    "outputId": "08c99591-e79e-4fe3-87b0-fa6b7406d68a"
   },
   "outputs": [
    {
     "name": "stderr",
     "output_type": "stream",
     "text": [
      "100%|██████████████████████████████████████████████████████████████████████████████████████████████████████████████████████████| 20000/20000 [00:03<00:00, 6469.78it/s]\n"
     ]
    }
   ],
   "source": [
    "vs=Value()\n",
    "for i in tqdm(range(20000)):\n",
    "    states=[]\n",
    "    \n",
    "    state,reward,done = g.reset()\n",
    "    states.append(state)\n",
    "    while not done and state[0]<20:\n",
    "        state,reward,done=g.step(1)\n",
    "        states.append(state)\n",
    "    if not done:\n",
    "        state,reward,done=g.step(0)\n",
    "        states.append(state)\n",
    "    \n",
    "    for s in reversed(states):\n",
    "        if s[0] <=21:\n",
    "            vs.put(s[0],s[1],s[2],reward)\n",
    "    "
   ]
  },
  {
   "cell_type": "code",
   "execution_count": 15,
   "metadata": {
    "colab": {
     "base_uri": "https://localhost:8080/",
     "height": 350
    },
    "id": "v8iCzVyoWQOo",
    "outputId": "a2ef66d7-fea6-4bb4-e4ac-8d4c7a9f821d"
   },
   "outputs": [
    {
     "data": {
      "image/png": "[encoded data removed]",
      "text/plain": [
       "<Figure size 1500x500 with 4 Axes>"
      ]
     },
     "metadata": {},
     "output_type": "display_data"
    }
   ],
   "source": [
    "_,axs=plt.subplots(1,2,figsize=(15,5))\n",
    "sns.heatmap(vs.vals[:,0,:],ax=axs[0]),\n",
    "sns.heatmap(vs.vals[:,1,:],ax=axs[1])\n",
    "\n",
    "axs[0].set_xlabel('dealer showing')\n",
    "axs[1].set_xlabel('dealer showing')\n",
    "\n",
    "axs[0].set_ylabel('score')\n",
    "axs[1].set_ylabel('score')\n",
    "\n",
    "axs[0].set_title('No Usable Ace')\n",
    "axs[1].set_title('Usable Ace')\n",
    "\n",
    "axs[0].set_xticklabels(['A']+list(map(str,range(2,11))))\n",
    "axs[1].set_xticklabels(['A']+list(map(str,range(2,11))))\n",
    "plt.show()"
   ]
  },
  {
   "cell_type": "code",
   "execution_count": null,
   "metadata": {
    "colab": {
     "base_uri": "https://localhost:8080/"
    },
    "id": "rzW1GUokaRjQ",
    "outputId": "58a0b322-b486-45c6-99e9-946cc8b659de"
   },
   "outputs": [
    {
     "name": "stderr",
     "output_type": "stream",
     "text": [
      "100%|██████████| 480000/480000 [01:17<00:00, 6170.89it/s]\n"
     ]
    }
   ],
   "source": [
    "\n",
    "for i in tqdm(range(20000,500000)):\n",
    "    states=[]\n",
    "    \n",
    "    state,reward,done = g.reset()\n",
    "    states.append(state)\n",
    "    while not done and state[0]<20:\n",
    "        state,reward,done=g.step(1)\n",
    "        states.append(state)\n",
    "    if not done:\n",
    "        state,reward,done=g.step(0)\n",
    "        states.append(state)\n",
    "    \n",
    "    for s in reversed(states):\n",
    "        if s[0] <=21:\n",
    "            vs.put(s[0],s[1],s[2],reward)\n",
    "    "
   ]
  },
  {
   "cell_type": "code",
   "execution_count": null,
   "metadata": {
    "colab": {
     "base_uri": "https://localhost:8080/",
     "height": 350
    },
    "id": "3_1KdpoUauNG",
    "outputId": "9dd17e5d-a2dc-4650-fe50-e6d77d5558bc"
   },
   "outputs": [
    {
     "data": {
      "image/png": "[encoded data removed]",
      "text/plain": [
       "<Figure size 1080x360 with 4 Axes>"
      ]
     },
     "metadata": {
      "needs_background": "light"
     },
     "output_type": "display_data"
    }
   ],
   "source": [
    "_,axs=plt.subplots(1,2,figsize=(15,5))\n",
    "sns.heatmap(vs.vals[:,0,:],ax=axs[0]),\n",
    "sns.heatmap(vs.vals[:,1,:],ax=axs[1])\n",
    "\n",
    "axs[0].set_xlabel('dealer showing')\n",
    "axs[1].set_xlabel('dealer showing')\n",
    "\n",
    "axs[0].set_ylabel('score')\n",
    "axs[1].set_ylabel('score')\n",
    "\n",
    "axs[0].set_title('No Usable Ace')\n",
    "axs[1].set_title('Usable Ace')\n",
    "\n",
    "axs[0].set_xticklabels(['A']+list(map(str,range(2,11))))\n",
    "axs[1].set_xticklabels(['A']+list(map(str,range(2,11))))\n",
    "plt.show()"
   ]
  },
  {
   "cell_type": "code",
   "execution_count": null,
   "metadata": {
    "id": "pRVwDxHJIRYY"
   },
   "outputs": [],
   "source": [
    "class Q:\n",
    "    def __init__(self):\n",
    "        self.vals=np.random.normal(size=(10,2,10,2))\n",
    "        self.cs=np.zeros((10,2,10,2))\n",
    "        \n",
    "\n",
    "    def put(self,score,usable,dealer_showing,action,w,g):\n",
    "        x=score-12\n",
    "        y=0 if dealer_showing=='A' else int(dealer_showing)-1\n",
    "        \n",
    "        self.cs[x][int(usable)][y][action]+=w\n",
    "        self.vals[x][int(usable)][y][action]+=w/self.cs[x][int(usable)][y][action]*(g-self.vals[x][int(usable)][y][action])\n",
    "\n",
    "    def get(self,score,usable,dealer_showing):\n",
    "        x=score-12\n",
    "        y=0 if dealer_showing=='A' else int(dealer_showing)-1\n",
    "        return self.vals[x][int(usable)][y]\n"
   ]
  },
  {
   "cell_type": "code",
   "execution_count": null,
   "metadata": {
    "colab": {
     "base_uri": "https://localhost:8080/"
    },
    "id": "KNrVdxmfAx-i",
    "outputId": "983ffcbd-47a2-4a6f-80b7-b5b3e0e9cb7a"
   },
   "outputs": [
    {
     "name": "stderr",
     "output_type": "stream",
     "text": [
      "100%|██████████| 2000000/2000000 [06:13<00:00, 5350.18it/s]\n"
     ]
    }
   ],
   "source": [
    "qs=Q()\n",
    "for i in tqdm(range(2000000)):\n",
    "\n",
    "    t=0\n",
    "    states=[]\n",
    "    actions=[]\n",
    "    rewards=[]\n",
    "    \n",
    "    state,reward,done = g.reset()\n",
    "    states.append(state)\n",
    "    rewards.append(reward)\n",
    "\n",
    "    while not done:\n",
    "        action=np.random.choice([0,1])\n",
    "        state,reward,done=g.step(action)\n",
    "        actions.append(action)\n",
    "\n",
    "        t+=1\n",
    "        states.append(state)\n",
    "        rewards.append(reward)\n",
    "\n",
    "    G=0\n",
    "    W=1\n",
    "    T=t\n",
    "    for t in range(T-1,-1,-1):\n",
    "        G+=rewards[t+1]\n",
    "        s=states[t]\n",
    "        a=actions[t]\n",
    "        W=W*2\n",
    "        qs.put(s[0],s[1],s[2],a,W,G)\n",
    "        p=np.argmax(qs.get(s[0],s[1],s[2]))\n",
    "        if a!=p:\n",
    "            break\n",
    "        #W=W*2\n",
    "\n",
    "\n"
   ]
  },
  {
   "cell_type": "code",
   "execution_count": null,
   "metadata": {
    "colab": {
     "base_uri": "https://localhost:8080/",
     "height": 298
    },
    "id": "P2-uvJp3E3Pk",
    "outputId": "7c37e254-106e-4a26-8655-46153d4460eb"
   },
   "outputs": [
    {
     "data": {
      "text/plain": [
       "Text(0.5, 1.0, 'Action - No Usable Ace')"
      ]
     },
     "execution_count": 11,
     "metadata": {},
     "output_type": "execute_result"
    },
    {
     "data": {
      "image/png": "[encoded data removed]",
      "text/plain": [
       "<Figure size 432x288 with 2 Axes>"
      ]
     },
     "metadata": {
      "needs_background": "light"
     },
     "output_type": "display_data"
    }
   ],
   "source": [
    "sns.heatmap(np.argmax(qs.vals[:,0],axis=2))\n",
    "plt.title('Action - No Usable Ace')"
   ]
  },
  {
   "cell_type": "code",
   "execution_count": null,
   "metadata": {
    "colab": {
     "base_uri": "https://localhost:8080/",
     "height": 298
    },
    "id": "LmnvTaGxF4ZA",
    "outputId": "976db52c-0eea-4db1-b741-4a0e02a1317d"
   },
   "outputs": [
    {
     "data": {
      "text/plain": [
       "Text(0.5, 1.0, 'Action - Usable Ace')"
      ]
     },
     "execution_count": 12,
     "metadata": {},
     "output_type": "execute_result"
    },
    {
     "data": {
      "image/png": "[encoded data removed]",
      "text/plain": [
       "<Figure size 432x288 with 2 Axes>"
      ]
     },
     "metadata": {
      "needs_background": "light"
     },
     "output_type": "display_data"
    }
   ],
   "source": [
    "sns.heatmap(np.argmax(qs.vals[:,1],axis=2))\n",
    "plt.title('Action - Usable Ace')"
   ]
  },
  {
   "cell_type": "code",
   "execution_count": null,
   "metadata": {
    "colab": {
     "base_uri": "https://localhost:8080/",
     "height": 298
    },
    "id": "00-RJjOwGI6V",
    "outputId": "212e077e-f03e-4357-a7af-0ebd52666b9f"
   },
   "outputs": [
    {
     "data": {
      "text/plain": [
       "Text(0.5, 1.0, 'Value - No Usable Ace')"
      ]
     },
     "execution_count": 13,
     "metadata": {},
     "output_type": "execute_result"
    },
    {
     "data": {
      "image/png": "[encoded data removed]",
      "text/plain": [
       "<Figure size 432x288 with 2 Axes>"
      ]
     },
     "metadata": {
      "needs_background": "light"
     },
     "output_type": "display_data"
    }
   ],
   "source": [
    "sns.heatmap(np.max(qs.vals[:,0],axis=2))\n",
    "plt.title('Value - No Usable Ace')"
   ]
  },
  {
   "cell_type": "code",
   "execution_count": null,
   "metadata": {
    "colab": {
     "base_uri": "https://localhost:8080/",
     "height": 298
    },
    "id": "V2r_1FMGG6TY",
    "outputId": "7cfc4e17-0eba-4d07-9a8f-7ab3084e5636"
   },
   "outputs": [
    {
     "data": {
      "text/plain": [
       "Text(0.5, 1.0, 'Value - Usable Ace')"
      ]
     },
     "execution_count": 14,
     "metadata": {},
     "output_type": "execute_result"
    },
    {
     "data": {
      "image/png": "[encoded data removed]",
      "text/plain": [
       "<Figure size 432x288 with 2 Axes>"
      ]
     },
     "metadata": {
      "needs_background": "light"
     },
     "output_type": "display_data"
    }
   ],
   "source": [
    "sns.heatmap(np.max(qs.vals[:,1],axis=2))\n",
    "plt.title('Value - Usable Ace')"
   ]
  },
  {
   "cell_type": "code",
   "execution_count": null,
   "metadata": {
    "id": "ZOufEA_nG9Ly"
   },
   "outputs": [],
   "source": []
  }
 ],
 "metadata": {
  "colab": {
   "provenance": []
  },
  "kernelspec": {
   "display_name": "Python 3 (ipykernel)",
   "language": "python",
   "name": "python3"
  },
  "language_info": {
   "codemirror_mode": {
    "name": "ipython",
    "version": 3
   },
   "file_extension": ".py",
   "mimetype": "text/x-python",
   "name": "python",
   "nbconvert_exporter": "python",
   "pygments_lexer": "ipython3",
   "version": "3.9.15"
  }
 },
 "nbformat": 4,
 "nbformat_minor": 1
}
